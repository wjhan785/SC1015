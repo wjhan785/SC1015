{
 "cells": [
  {
   "cell_type": "code",
   "execution_count": 1,
   "id": "dc5d8082-8a3e-4253-8c61-db4930eaa701",
   "metadata": {},
   "outputs": [],
   "source": [
    "import numpy as np\n",
    "import pandas as pd\n",
    "import seaborn as sb\n",
    "import matplotlib.pyplot as plt \n",
    "from sklearn.linear_model import LinearRegression\n",
    "from sklearn.linear_model import LinearRegression\n",
    "from sklearn.model_selection import train_test_split\n",
    "from sklearn.metrics import mean_squared_error\n",
    "from sklearn.tree import plot_tree\n",
    "from sklearn.tree import DecisionTreeClassifier\n",
    "from sklearn.metrics import confusion_matrix\n",
    "from kneed import KneeLocator\n",
    "from sklearn.cluster import KMeans\n",
    "from sklearn.cluster import DBSCAN\n",
    "from sklearn.metrics import silhouette_score, adjusted_rand_score\n",
    "from sklearn.preprocessing import StandardScaler\n",
    "from sklearn.preprocessing import MinMaxScaler\n",
    "from mpl_toolkits.mplot3d import Axes3D\n",
    "import plotly.express as px\n",
    "from plotly.subplots import make_subplots\n",
    "import plotly.graph_objects as go\n",
    "from plotly.offline import offline, iplot\n",
    "\n",
    "#import pyspark\n",
    "#from pyspark.sql.functions import lit\n",
    "sb.set()\n",
    "\n",
    "pd.set_option('display.max_rows', None)"
   ]
  },
  {
   "cell_type": "code",
   "execution_count": 2,
   "id": "055395f2-660e-432b-b8d5-3b41b545f396",
   "metadata": {},
   "outputs": [],
   "source": [
    "baseDF = pd.read_csv(\"movies.csv\")\n",
    "baseDF=baseDF.dropna(subset=['budget','gross'])\n",
    "grossCOL = pd.DataFrame((baseDF[\"gross\"]-baseDF[\"budget\"]-baseDF[\"budget\"]*0.5)>0)\n",
    "baseDF[\"Success\"] = grossCOL"
   ]
  },
  {
   "cell_type": "code",
   "execution_count": 3,
   "id": "1909de48-e593-4104-81a0-b75b90dce40c",
   "metadata": {},
   "outputs": [
    {
     "name": "stdout",
     "output_type": "stream",
     "text": [
      "       budget      votes  score  Success\n",
      "0  19000000.0   927000.0    8.4     True\n",
      "1   4500000.0    65000.0    5.8     True\n",
      "2  18000000.0  1200000.0    8.7     True\n",
      "3   3500000.0   221000.0    7.7     True\n",
      "4   6000000.0   108000.0    7.3     True\n"
     ]
    }
   ],
   "source": [
    "kMeansVar = baseDF[[\"budget\", \"votes\", \"score\", \"Success\"]]\n",
    "\n",
    "#scaler = MinMaxScaler()\n",
    "#scaled_features = scaler.fit_transform(kMeansVar[[\"budget\", \"votes\", \"score\"]])\n",
    "#scaled_features = pd.DataFrame(scaled_features, index=kMeansVar.index, columns=[\"budget\", \"votes\", \"score\"])\n",
    "#kMeansVar = scaled_features.assign(Success=kMeansVar[\"Success\"])\n",
    "\n",
    "print(kMeansVar.head())"
   ]
  },
  {
   "cell_type": "markdown",
   "id": "19f162bc-c688-4817-9b17-b425297a3f31",
   "metadata": {},
   "source": [
    "Now, we will try to use K-Means Clustering to identify clusters in the dataset. "
   ]
  },
  {
   "cell_type": "code",
   "execution_count": 4,
   "id": "a6c65695-7ed2-4da0-b64b-9ae5697def36",
   "metadata": {},
   "outputs": [
    {
     "ename": "ValueError",
     "evalue": "Failed to start Kaleido subprocess. Error stream:\n\n'C:/Users/Wong' is not recognized as an internal or external command,\r\noperable program or batch file.\r\n",
     "output_type": "error",
     "traceback": [
      "\u001b[1;31m---------------------------------------------------------------------------\u001b[0m",
      "\u001b[1;31mValueError\u001b[0m                                Traceback (most recent call last)",
      "Cell \u001b[1;32mIn[4], line 14\u001b[0m\n\u001b[0;32m      6\u001b[0m     sse\u001b[38;5;241m.\u001b[39mappend(kmeans\u001b[38;5;241m.\u001b[39minertia_)\n\u001b[0;32m      8\u001b[0m f\u001b[38;5;241m=\u001b[39mpx\u001b[38;5;241m.\u001b[39mline(x\u001b[38;5;241m=\u001b[39m\u001b[38;5;28mrange\u001b[39m(\u001b[38;5;241m1\u001b[39m,\u001b[38;5;241m11\u001b[39m), \n\u001b[0;32m      9\u001b[0m           y\u001b[38;5;241m=\u001b[39msse, \n\u001b[0;32m     10\u001b[0m           title\u001b[38;5;241m=\u001b[39m\u001b[38;5;124m\"\u001b[39m\u001b[38;5;124mElbow Method\u001b[39m\u001b[38;5;124m\"\u001b[39m,\n\u001b[0;32m     11\u001b[0m           labels\u001b[38;5;241m=\u001b[39m{\u001b[38;5;124m\"\u001b[39m\u001b[38;5;124my\u001b[39m\u001b[38;5;124m\"\u001b[39m: \u001b[38;5;124m\"\u001b[39m\u001b[38;5;124mSSE\u001b[39m\u001b[38;5;124m\"\u001b[39m, \u001b[38;5;124m\"\u001b[39m\u001b[38;5;124mx\u001b[39m\u001b[38;5;124m\"\u001b[39m: \u001b[38;5;124m\"\u001b[39m\u001b[38;5;124mNumber of clusters\u001b[39m\u001b[38;5;124m\"\u001b[39m},\n\u001b[0;32m     12\u001b[0m           markers\u001b[38;5;241m=\u001b[39m\u001b[38;5;28;01mTrue\u001b[39;00m, \n\u001b[0;32m     13\u001b[0m           template\u001b[38;5;241m=\u001b[39m\u001b[38;5;124m\"\u001b[39m\u001b[38;5;124mplotly_dark\u001b[39m\u001b[38;5;124m\"\u001b[39m)\n\u001b[1;32m---> 14\u001b[0m f\u001b[38;5;241m.\u001b[39mshow(\u001b[38;5;124m\"\u001b[39m\u001b[38;5;124mpng\u001b[39m\u001b[38;5;124m\"\u001b[39m)\n\u001b[0;32m     16\u001b[0m kl \u001b[38;5;241m=\u001b[39m KneeLocator(\u001b[38;5;28mrange\u001b[39m(\u001b[38;5;241m1\u001b[39m, \u001b[38;5;241m11\u001b[39m), sse, curve\u001b[38;5;241m=\u001b[39m\u001b[38;5;124m\"\u001b[39m\u001b[38;5;124mconvex\u001b[39m\u001b[38;5;124m\"\u001b[39m, direction\u001b[38;5;241m=\u001b[39m\u001b[38;5;124m\"\u001b[39m\u001b[38;5;124mdecreasing\u001b[39m\u001b[38;5;124m\"\u001b[39m)\n\u001b[0;32m     17\u001b[0m \u001b[38;5;28mprint\u001b[39m(\u001b[38;5;124m\"\u001b[39m\u001b[38;5;124mBest number of clusters: \u001b[39m\u001b[38;5;132;01m{}\u001b[39;00m\u001b[38;5;124m\"\u001b[39m\u001b[38;5;241m.\u001b[39mformat(kl\u001b[38;5;241m.\u001b[39melbow))\n",
      "File \u001b[1;32m~\\.conda\\envs\\learning\\Lib\\site-packages\\plotly\\basedatatypes.py:3410\u001b[0m, in \u001b[0;36mBaseFigure.show\u001b[1;34m(self, *args, **kwargs)\u001b[0m\n\u001b[0;32m   3377\u001b[0m \u001b[38;5;250m\u001b[39m\u001b[38;5;124;03m\"\"\"\u001b[39;00m\n\u001b[0;32m   3378\u001b[0m \u001b[38;5;124;03mShow a figure using either the default renderer(s) or the renderer(s)\u001b[39;00m\n\u001b[0;32m   3379\u001b[0m \u001b[38;5;124;03mspecified by the renderer argument\u001b[39;00m\n\u001b[1;32m   (...)\u001b[0m\n\u001b[0;32m   3406\u001b[0m \u001b[38;5;124;03mNone\u001b[39;00m\n\u001b[0;32m   3407\u001b[0m \u001b[38;5;124;03m\"\"\"\u001b[39;00m\n\u001b[0;32m   3408\u001b[0m \u001b[38;5;28;01mimport\u001b[39;00m \u001b[38;5;21;01mplotly\u001b[39;00m\u001b[38;5;21;01m.\u001b[39;00m\u001b[38;5;21;01mio\u001b[39;00m \u001b[38;5;28;01mas\u001b[39;00m \u001b[38;5;21;01mpio\u001b[39;00m\n\u001b[1;32m-> 3410\u001b[0m \u001b[38;5;28;01mreturn\u001b[39;00m pio\u001b[38;5;241m.\u001b[39mshow(\u001b[38;5;28mself\u001b[39m, \u001b[38;5;241m*\u001b[39margs, \u001b[38;5;241m*\u001b[39m\u001b[38;5;241m*\u001b[39mkwargs)\n",
      "File \u001b[1;32m~\\.conda\\envs\\learning\\Lib\\site-packages\\plotly\\io\\_renderers.py:386\u001b[0m, in \u001b[0;36mshow\u001b[1;34m(fig, renderer, validate, **kwargs)\u001b[0m\n\u001b[0;32m    383\u001b[0m fig_dict \u001b[38;5;241m=\u001b[39m validate_coerce_fig_to_dict(fig, validate)\n\u001b[0;32m    385\u001b[0m \u001b[38;5;66;03m# Mimetype renderers\u001b[39;00m\n\u001b[1;32m--> 386\u001b[0m bundle \u001b[38;5;241m=\u001b[39m renderers\u001b[38;5;241m.\u001b[39m_build_mime_bundle(fig_dict, renderers_string\u001b[38;5;241m=\u001b[39mrenderer, \u001b[38;5;241m*\u001b[39m\u001b[38;5;241m*\u001b[39mkwargs)\n\u001b[0;32m    387\u001b[0m \u001b[38;5;28;01mif\u001b[39;00m bundle:\n\u001b[0;32m    388\u001b[0m     \u001b[38;5;28;01mif\u001b[39;00m \u001b[38;5;129;01mnot\u001b[39;00m ipython_display:\n",
      "File \u001b[1;32m~\\.conda\\envs\\learning\\Lib\\site-packages\\plotly\\io\\_renderers.py:294\u001b[0m, in \u001b[0;36mRenderersConfig._build_mime_bundle\u001b[1;34m(self, fig_dict, renderers_string, **kwargs)\u001b[0m\n\u001b[0;32m    291\u001b[0m             \u001b[38;5;28;01mif\u001b[39;00m \u001b[38;5;28mhasattr\u001b[39m(renderer, k):\n\u001b[0;32m    292\u001b[0m                 \u001b[38;5;28msetattr\u001b[39m(renderer, k, v)\n\u001b[1;32m--> 294\u001b[0m         bundle\u001b[38;5;241m.\u001b[39mupdate(renderer\u001b[38;5;241m.\u001b[39mto_mimebundle(fig_dict))\n\u001b[0;32m    296\u001b[0m \u001b[38;5;28;01mreturn\u001b[39;00m bundle\n",
      "File \u001b[1;32m~\\.conda\\envs\\learning\\Lib\\site-packages\\plotly\\io\\_base_renderers.py:126\u001b[0m, in \u001b[0;36mImageRenderer.to_mimebundle\u001b[1;34m(self, fig_dict)\u001b[0m\n\u001b[0;32m    125\u001b[0m \u001b[38;5;28;01mdef\u001b[39;00m \u001b[38;5;21mto_mimebundle\u001b[39m(\u001b[38;5;28mself\u001b[39m, fig_dict):\n\u001b[1;32m--> 126\u001b[0m     image_bytes \u001b[38;5;241m=\u001b[39m to_image(\n\u001b[0;32m    127\u001b[0m         fig_dict,\n\u001b[0;32m    128\u001b[0m         \u001b[38;5;28mformat\u001b[39m\u001b[38;5;241m=\u001b[39m\u001b[38;5;28mself\u001b[39m\u001b[38;5;241m.\u001b[39mformat,\n\u001b[0;32m    129\u001b[0m         width\u001b[38;5;241m=\u001b[39m\u001b[38;5;28mself\u001b[39m\u001b[38;5;241m.\u001b[39mwidth,\n\u001b[0;32m    130\u001b[0m         height\u001b[38;5;241m=\u001b[39m\u001b[38;5;28mself\u001b[39m\u001b[38;5;241m.\u001b[39mheight,\n\u001b[0;32m    131\u001b[0m         scale\u001b[38;5;241m=\u001b[39m\u001b[38;5;28mself\u001b[39m\u001b[38;5;241m.\u001b[39mscale,\n\u001b[0;32m    132\u001b[0m         validate\u001b[38;5;241m=\u001b[39m\u001b[38;5;28;01mFalse\u001b[39;00m,\n\u001b[0;32m    133\u001b[0m         engine\u001b[38;5;241m=\u001b[39m\u001b[38;5;28mself\u001b[39m\u001b[38;5;241m.\u001b[39mengine,\n\u001b[0;32m    134\u001b[0m     )\n\u001b[0;32m    136\u001b[0m     \u001b[38;5;28;01mif\u001b[39;00m \u001b[38;5;28mself\u001b[39m\u001b[38;5;241m.\u001b[39mb64_encode:\n\u001b[0;32m    137\u001b[0m         image_str \u001b[38;5;241m=\u001b[39m base64\u001b[38;5;241m.\u001b[39mb64encode(image_bytes)\u001b[38;5;241m.\u001b[39mdecode(\u001b[38;5;124m\"\u001b[39m\u001b[38;5;124mutf8\u001b[39m\u001b[38;5;124m\"\u001b[39m)\n",
      "File \u001b[1;32m~\\.conda\\envs\\learning\\Lib\\site-packages\\plotly\\io\\_kaleido.py:143\u001b[0m, in \u001b[0;36mto_image\u001b[1;34m(fig, format, width, height, scale, validate, engine)\u001b[0m\n\u001b[0;32m    140\u001b[0m \u001b[38;5;66;03m# Validate figure\u001b[39;00m\n\u001b[0;32m    141\u001b[0m \u001b[38;5;66;03m# ---------------\u001b[39;00m\n\u001b[0;32m    142\u001b[0m fig_dict \u001b[38;5;241m=\u001b[39m validate_coerce_fig_to_dict(fig, validate)\n\u001b[1;32m--> 143\u001b[0m img_bytes \u001b[38;5;241m=\u001b[39m scope\u001b[38;5;241m.\u001b[39mtransform(\n\u001b[0;32m    144\u001b[0m     fig_dict, \u001b[38;5;28mformat\u001b[39m\u001b[38;5;241m=\u001b[39m\u001b[38;5;28mformat\u001b[39m, width\u001b[38;5;241m=\u001b[39mwidth, height\u001b[38;5;241m=\u001b[39mheight, scale\u001b[38;5;241m=\u001b[39mscale\n\u001b[0;32m    145\u001b[0m )\n\u001b[0;32m    147\u001b[0m \u001b[38;5;28;01mreturn\u001b[39;00m img_bytes\n",
      "File \u001b[1;32m~\\.conda\\envs\\learning\\Lib\\site-packages\\kaleido\\scopes\\plotly.py:153\u001b[0m, in \u001b[0;36mPlotlyScope.transform\u001b[1;34m(self, figure, format, width, height, scale)\u001b[0m\n\u001b[0;32m    142\u001b[0m     \u001b[38;5;28;01mraise\u001b[39;00m \u001b[38;5;167;01mValueError\u001b[39;00m(\n\u001b[0;32m    143\u001b[0m         \u001b[38;5;124m\"\u001b[39m\u001b[38;5;124mInvalid format \u001b[39m\u001b[38;5;124m'\u001b[39m\u001b[38;5;132;01m{original_format}\u001b[39;00m\u001b[38;5;124m'\u001b[39m\u001b[38;5;124m.\u001b[39m\u001b[38;5;130;01m\\n\u001b[39;00m\u001b[38;5;124m\"\u001b[39m\n\u001b[0;32m    144\u001b[0m         \u001b[38;5;124m\"\u001b[39m\u001b[38;5;124m    Supported formats: \u001b[39m\u001b[38;5;132;01m{supported_formats_str}\u001b[39;00m\u001b[38;5;124m\"\u001b[39m\n\u001b[1;32m   (...)\u001b[0m\n\u001b[0;32m    148\u001b[0m         )\n\u001b[0;32m    149\u001b[0m     )\n\u001b[0;32m    151\u001b[0m \u001b[38;5;66;03m# Transform in using _perform_transform rather than superclass so we can access the full\u001b[39;00m\n\u001b[0;32m    152\u001b[0m \u001b[38;5;66;03m# response dict, including error codes.\u001b[39;00m\n\u001b[1;32m--> 153\u001b[0m response \u001b[38;5;241m=\u001b[39m \u001b[38;5;28mself\u001b[39m\u001b[38;5;241m.\u001b[39m_perform_transform(\n\u001b[0;32m    154\u001b[0m     figure, \u001b[38;5;28mformat\u001b[39m\u001b[38;5;241m=\u001b[39m\u001b[38;5;28mformat\u001b[39m, width\u001b[38;5;241m=\u001b[39mwidth, height\u001b[38;5;241m=\u001b[39mheight, scale\u001b[38;5;241m=\u001b[39mscale\n\u001b[0;32m    155\u001b[0m )\n\u001b[0;32m    157\u001b[0m \u001b[38;5;66;03m# Check for export error, later can customize error messages for plotly Python users\u001b[39;00m\n\u001b[0;32m    158\u001b[0m code \u001b[38;5;241m=\u001b[39m response\u001b[38;5;241m.\u001b[39mget(\u001b[38;5;124m\"\u001b[39m\u001b[38;5;124mcode\u001b[39m\u001b[38;5;124m\"\u001b[39m, \u001b[38;5;241m0\u001b[39m)\n",
      "File \u001b[1;32m~\\.conda\\envs\\learning\\Lib\\site-packages\\kaleido\\scopes\\base.py:293\u001b[0m, in \u001b[0;36mBaseScope._perform_transform\u001b[1;34m(self, data, **kwargs)\u001b[0m\n\u001b[0;32m    284\u001b[0m \u001b[38;5;250m\u001b[39m\u001b[38;5;124;03m\"\"\"\u001b[39;00m\n\u001b[0;32m    285\u001b[0m \u001b[38;5;124;03mTransform input data using the current scope, returning dict response with error code\u001b[39;00m\n\u001b[0;32m    286\u001b[0m \u001b[38;5;124;03mwhether successful or not.\u001b[39;00m\n\u001b[1;32m   (...)\u001b[0m\n\u001b[0;32m    290\u001b[0m \u001b[38;5;124;03m:return: Dict of response from Kaleido executable, whether successful or not\u001b[39;00m\n\u001b[0;32m    291\u001b[0m \u001b[38;5;124;03m\"\"\"\u001b[39;00m\n\u001b[0;32m    292\u001b[0m \u001b[38;5;66;03m# Ensure that kaleido subprocess is running\u001b[39;00m\n\u001b[1;32m--> 293\u001b[0m \u001b[38;5;28mself\u001b[39m\u001b[38;5;241m.\u001b[39m_ensure_kaleido()\n\u001b[0;32m    295\u001b[0m \u001b[38;5;66;03m# Perform export\u001b[39;00m\n\u001b[0;32m    296\u001b[0m export_spec \u001b[38;5;241m=\u001b[39m \u001b[38;5;28mself\u001b[39m\u001b[38;5;241m.\u001b[39m_json_dumps(\u001b[38;5;28mdict\u001b[39m(kwargs, data\u001b[38;5;241m=\u001b[39mdata))\u001b[38;5;241m.\u001b[39mencode(\u001b[38;5;124m'\u001b[39m\u001b[38;5;124mutf-8\u001b[39m\u001b[38;5;124m'\u001b[39m)\n",
      "File \u001b[1;32m~\\.conda\\envs\\learning\\Lib\\site-packages\\kaleido\\scopes\\base.py:198\u001b[0m, in \u001b[0;36mBaseScope._ensure_kaleido\u001b[1;34m(self)\u001b[0m\n\u001b[0;32m    193\u001b[0m \u001b[38;5;28;01mif\u001b[39;00m \u001b[38;5;129;01mnot\u001b[39;00m startup_response_string:\n\u001b[0;32m    194\u001b[0m     message \u001b[38;5;241m=\u001b[39m (\n\u001b[0;32m    195\u001b[0m         \u001b[38;5;124m\"\u001b[39m\u001b[38;5;124mFailed to start Kaleido subprocess. Error stream:\u001b[39m\u001b[38;5;130;01m\\n\u001b[39;00m\u001b[38;5;130;01m\\n\u001b[39;00m\u001b[38;5;124m\"\u001b[39m \u001b[38;5;241m+\u001b[39m\n\u001b[0;32m    196\u001b[0m         \u001b[38;5;28mself\u001b[39m\u001b[38;5;241m.\u001b[39m_get_decoded_std_error()\n\u001b[0;32m    197\u001b[0m     )\n\u001b[1;32m--> 198\u001b[0m     \u001b[38;5;28;01mraise\u001b[39;00m \u001b[38;5;167;01mValueError\u001b[39;00m(message)\n\u001b[0;32m    199\u001b[0m \u001b[38;5;28;01melse\u001b[39;00m:\n\u001b[0;32m    200\u001b[0m     startup_response \u001b[38;5;241m=\u001b[39m json\u001b[38;5;241m.\u001b[39mloads(startup_response_string)\n",
      "\u001b[1;31mValueError\u001b[0m: Failed to start Kaleido subprocess. Error stream:\n\n'C:/Users/Wong' is not recognized as an internal or external command,\r\noperable program or batch file.\r\n"
     ]
    }
   ],
   "source": [
    "#Using the elbow method to determine the number of clusters to identify\n",
    "sse = []\n",
    "for i in range(1,11):\n",
    "    kmeans = KMeans(n_clusters=i, init=\"k-means++\", n_init= 50, max_iter=500, random_state=42)\n",
    "    kmeans.fit(kMeansVar)\n",
    "    sse.append(kmeans.inertia_)\n",
    "\n",
    "f=px.line(x=range(1,11), \n",
    "          y=sse, \n",
    "          title=\"Elbow Method\",\n",
    "          labels={\"y\": \"SSE\", \"x\": \"Number of clusters\"},\n",
    "          markers=True, \n",
    "          template=\"plotly_dark\")\n",
    "f.show(\"png\")\n",
    "\n",
    "kl = KneeLocator(range(1, 11), sse, curve=\"convex\", direction=\"decreasing\")\n",
    "print(\"Best number of clusters: {}\".format(kl.elbow))\n",
    "\n",
    "#Determining the silhouette score\n",
    "print(\"Silhouette Score: {}\".format(silhouette_score(kMeansVar, kmeans.labels_))) \n",
    "\n",
    "#Showing the clustering\n",
    "kmeans = KMeans(n_clusters=3, init=\"k-means++\", n_init= 50, max_iter=500, random_state=42)\n",
    "kmeans.fit(kMeansVar)\n",
    "\n",
    "f = px.scatter(kMeansVar, \n",
    "               x=\"budget\", \n",
    "               y=\"score\", \n",
    "               color=kmeans.labels_, \n",
    "               template=\"plotly_dark\")\n",
    "f.show(\"png\")\n",
    "print()"
   ]
  },
  {
   "cell_type": "markdown",
   "id": "b6ccbf0a-5ab9-497a-99a9-9125480084bb",
   "metadata": {},
   "source": [
    "As seen from above, after using the Elbow method, it can be seen that the best number of cluster is 3 as that is the turning points. Silhouette coefficient values indicates whether the samples are closer to their clusters than they are to other clusters. The silhouette value ranges between -1 and 1. The silhouette value calculated is at 0.0.559, which is rather high and hence, the clusters are generally well separated. \n",
    "\n",
    "However, for our specific problem, we have already identified 2 main clusters - Success and Failure. Hence, due to the fact that we have ground truth values, it will be better if we used them as the clusters instead, and use Adjusted Rand Index as the indicator. "
   ]
  },
  {
   "cell_type": "code",
   "execution_count": 7,
   "id": "bd931f12-e8bf-4d84-9004-98fb2b5688a3",
   "metadata": {},
   "outputs": [
    {
     "ename": "ValueError",
     "evalue": "Failed to start Kaleido subprocess. Error stream:\n\n'C:/Users/Wong' is not recognized as an internal or external command,\r\noperable program or batch file.\r\n",
     "output_type": "error",
     "traceback": [
      "\u001b[1;31m---------------------------------------------------------------------------\u001b[0m",
      "\u001b[1;31mValueError\u001b[0m                                Traceback (most recent call last)",
      "Cell \u001b[1;32mIn[7], line 18\u001b[0m\n\u001b[0;32m      7\u001b[0m f \u001b[38;5;241m=\u001b[39m px\u001b[38;5;241m.\u001b[39mscatter_3d(kMeansVar, \n\u001b[0;32m      8\u001b[0m                   x\u001b[38;5;241m=\u001b[39m\u001b[38;5;124m\"\u001b[39m\u001b[38;5;124mbudget\u001b[39m\u001b[38;5;124m\"\u001b[39m,\n\u001b[0;32m      9\u001b[0m                   y\u001b[38;5;241m=\u001b[39m\u001b[38;5;124m\"\u001b[39m\u001b[38;5;124mvotes\u001b[39m\u001b[38;5;124m\"\u001b[39m,\n\u001b[1;32m   (...)\u001b[0m\n\u001b[0;32m     15\u001b[0m                   title\u001b[38;5;241m=\u001b[39m\u001b[38;5;124m\"\u001b[39m\u001b[38;5;124mK-Means\u001b[39m\u001b[38;5;124m\"\u001b[39m,\n\u001b[0;32m     16\u001b[0m                   template\u001b[38;5;241m=\u001b[39m\u001b[38;5;124m\"\u001b[39m\u001b[38;5;124mplotly_dark\u001b[39m\u001b[38;5;124m\"\u001b[39m)\n\u001b[0;32m     17\u001b[0m f\u001b[38;5;241m.\u001b[39mupdate_layout(margin\u001b[38;5;241m=\u001b[39m\u001b[38;5;28mdict\u001b[39m(l\u001b[38;5;241m=\u001b[39m\u001b[38;5;241m0\u001b[39m, r\u001b[38;5;241m=\u001b[39m\u001b[38;5;241m0\u001b[39m, b\u001b[38;5;241m=\u001b[39m\u001b[38;5;241m0\u001b[39m, t\u001b[38;5;241m=\u001b[39m\u001b[38;5;241m0\u001b[39m), coloraxis_colorbar\u001b[38;5;241m=\u001b[39m\u001b[38;5;28mdict\u001b[39m(yanchor\u001b[38;5;241m=\u001b[39m\u001b[38;5;124m\"\u001b[39m\u001b[38;5;124mtop\u001b[39m\u001b[38;5;124m\"\u001b[39m, y\u001b[38;5;241m=\u001b[39m\u001b[38;5;241m1\u001b[39m, x\u001b[38;5;241m=\u001b[39m\u001b[38;5;241m0\u001b[39m, ticks\u001b[38;5;241m=\u001b[39m\u001b[38;5;124m\"\u001b[39m\u001b[38;5;124moutside\u001b[39m\u001b[38;5;124m\"\u001b[39m, ticksuffix\u001b[38;5;241m=\u001b[39m\u001b[38;5;124m\"\u001b[39m\u001b[38;5;124m bills\u001b[39m\u001b[38;5;124m\"\u001b[39m))\n\u001b[1;32m---> 18\u001b[0m img_bytes \u001b[38;5;241m=\u001b[39m f\u001b[38;5;241m.\u001b[39mto_image(\u001b[38;5;28mformat\u001b[39m\u001b[38;5;241m=\u001b[39m\u001b[38;5;124m\"\u001b[39m\u001b[38;5;124mpng\u001b[39m\u001b[38;5;124m\"\u001b[39m)\n\u001b[0;32m     19\u001b[0m \u001b[38;5;28mprint\u001b[39m(img_bytes)\n\u001b[0;32m     20\u001b[0m f\u001b[38;5;241m.\u001b[39mshow(\u001b[38;5;124m\"\u001b[39m\u001b[38;5;124mpng\u001b[39m\u001b[38;5;124m\"\u001b[39m)\n",
      "File \u001b[1;32m~\\.conda\\envs\\learning\\Lib\\site-packages\\plotly\\basedatatypes.py:3778\u001b[0m, in \u001b[0;36mBaseFigure.to_image\u001b[1;34m(self, *args, **kwargs)\u001b[0m\n\u001b[0;32m   3723\u001b[0m \u001b[38;5;250m\u001b[39m\u001b[38;5;124;03m\"\"\"\u001b[39;00m\n\u001b[0;32m   3724\u001b[0m \u001b[38;5;124;03mConvert a figure to a static image bytes string\u001b[39;00m\n\u001b[0;32m   3725\u001b[0m \n\u001b[1;32m   (...)\u001b[0m\n\u001b[0;32m   3774\u001b[0m \u001b[38;5;124;03m    The image data\u001b[39;00m\n\u001b[0;32m   3775\u001b[0m \u001b[38;5;124;03m\"\"\"\u001b[39;00m\n\u001b[0;32m   3776\u001b[0m \u001b[38;5;28;01mimport\u001b[39;00m \u001b[38;5;21;01mplotly\u001b[39;00m\u001b[38;5;21;01m.\u001b[39;00m\u001b[38;5;21;01mio\u001b[39;00m \u001b[38;5;28;01mas\u001b[39;00m \u001b[38;5;21;01mpio\u001b[39;00m\n\u001b[1;32m-> 3778\u001b[0m \u001b[38;5;28;01mreturn\u001b[39;00m pio\u001b[38;5;241m.\u001b[39mto_image(\u001b[38;5;28mself\u001b[39m, \u001b[38;5;241m*\u001b[39margs, \u001b[38;5;241m*\u001b[39m\u001b[38;5;241m*\u001b[39mkwargs)\n",
      "File \u001b[1;32m~\\.conda\\envs\\learning\\Lib\\site-packages\\plotly\\io\\_kaleido.py:143\u001b[0m, in \u001b[0;36mto_image\u001b[1;34m(fig, format, width, height, scale, validate, engine)\u001b[0m\n\u001b[0;32m    140\u001b[0m \u001b[38;5;66;03m# Validate figure\u001b[39;00m\n\u001b[0;32m    141\u001b[0m \u001b[38;5;66;03m# ---------------\u001b[39;00m\n\u001b[0;32m    142\u001b[0m fig_dict \u001b[38;5;241m=\u001b[39m validate_coerce_fig_to_dict(fig, validate)\n\u001b[1;32m--> 143\u001b[0m img_bytes \u001b[38;5;241m=\u001b[39m scope\u001b[38;5;241m.\u001b[39mtransform(\n\u001b[0;32m    144\u001b[0m     fig_dict, \u001b[38;5;28mformat\u001b[39m\u001b[38;5;241m=\u001b[39m\u001b[38;5;28mformat\u001b[39m, width\u001b[38;5;241m=\u001b[39mwidth, height\u001b[38;5;241m=\u001b[39mheight, scale\u001b[38;5;241m=\u001b[39mscale\n\u001b[0;32m    145\u001b[0m )\n\u001b[0;32m    147\u001b[0m \u001b[38;5;28;01mreturn\u001b[39;00m img_bytes\n",
      "File \u001b[1;32m~\\.conda\\envs\\learning\\Lib\\site-packages\\kaleido\\scopes\\plotly.py:153\u001b[0m, in \u001b[0;36mPlotlyScope.transform\u001b[1;34m(self, figure, format, width, height, scale)\u001b[0m\n\u001b[0;32m    142\u001b[0m     \u001b[38;5;28;01mraise\u001b[39;00m \u001b[38;5;167;01mValueError\u001b[39;00m(\n\u001b[0;32m    143\u001b[0m         \u001b[38;5;124m\"\u001b[39m\u001b[38;5;124mInvalid format \u001b[39m\u001b[38;5;124m'\u001b[39m\u001b[38;5;132;01m{original_format}\u001b[39;00m\u001b[38;5;124m'\u001b[39m\u001b[38;5;124m.\u001b[39m\u001b[38;5;130;01m\\n\u001b[39;00m\u001b[38;5;124m\"\u001b[39m\n\u001b[0;32m    144\u001b[0m         \u001b[38;5;124m\"\u001b[39m\u001b[38;5;124m    Supported formats: \u001b[39m\u001b[38;5;132;01m{supported_formats_str}\u001b[39;00m\u001b[38;5;124m\"\u001b[39m\n\u001b[1;32m   (...)\u001b[0m\n\u001b[0;32m    148\u001b[0m         )\n\u001b[0;32m    149\u001b[0m     )\n\u001b[0;32m    151\u001b[0m \u001b[38;5;66;03m# Transform in using _perform_transform rather than superclass so we can access the full\u001b[39;00m\n\u001b[0;32m    152\u001b[0m \u001b[38;5;66;03m# response dict, including error codes.\u001b[39;00m\n\u001b[1;32m--> 153\u001b[0m response \u001b[38;5;241m=\u001b[39m \u001b[38;5;28mself\u001b[39m\u001b[38;5;241m.\u001b[39m_perform_transform(\n\u001b[0;32m    154\u001b[0m     figure, \u001b[38;5;28mformat\u001b[39m\u001b[38;5;241m=\u001b[39m\u001b[38;5;28mformat\u001b[39m, width\u001b[38;5;241m=\u001b[39mwidth, height\u001b[38;5;241m=\u001b[39mheight, scale\u001b[38;5;241m=\u001b[39mscale\n\u001b[0;32m    155\u001b[0m )\n\u001b[0;32m    157\u001b[0m \u001b[38;5;66;03m# Check for export error, later can customize error messages for plotly Python users\u001b[39;00m\n\u001b[0;32m    158\u001b[0m code \u001b[38;5;241m=\u001b[39m response\u001b[38;5;241m.\u001b[39mget(\u001b[38;5;124m\"\u001b[39m\u001b[38;5;124mcode\u001b[39m\u001b[38;5;124m\"\u001b[39m, \u001b[38;5;241m0\u001b[39m)\n",
      "File \u001b[1;32m~\\.conda\\envs\\learning\\Lib\\site-packages\\kaleido\\scopes\\base.py:293\u001b[0m, in \u001b[0;36mBaseScope._perform_transform\u001b[1;34m(self, data, **kwargs)\u001b[0m\n\u001b[0;32m    284\u001b[0m \u001b[38;5;250m\u001b[39m\u001b[38;5;124;03m\"\"\"\u001b[39;00m\n\u001b[0;32m    285\u001b[0m \u001b[38;5;124;03mTransform input data using the current scope, returning dict response with error code\u001b[39;00m\n\u001b[0;32m    286\u001b[0m \u001b[38;5;124;03mwhether successful or not.\u001b[39;00m\n\u001b[1;32m   (...)\u001b[0m\n\u001b[0;32m    290\u001b[0m \u001b[38;5;124;03m:return: Dict of response from Kaleido executable, whether successful or not\u001b[39;00m\n\u001b[0;32m    291\u001b[0m \u001b[38;5;124;03m\"\"\"\u001b[39;00m\n\u001b[0;32m    292\u001b[0m \u001b[38;5;66;03m# Ensure that kaleido subprocess is running\u001b[39;00m\n\u001b[1;32m--> 293\u001b[0m \u001b[38;5;28mself\u001b[39m\u001b[38;5;241m.\u001b[39m_ensure_kaleido()\n\u001b[0;32m    295\u001b[0m \u001b[38;5;66;03m# Perform export\u001b[39;00m\n\u001b[0;32m    296\u001b[0m export_spec \u001b[38;5;241m=\u001b[39m \u001b[38;5;28mself\u001b[39m\u001b[38;5;241m.\u001b[39m_json_dumps(\u001b[38;5;28mdict\u001b[39m(kwargs, data\u001b[38;5;241m=\u001b[39mdata))\u001b[38;5;241m.\u001b[39mencode(\u001b[38;5;124m'\u001b[39m\u001b[38;5;124mutf-8\u001b[39m\u001b[38;5;124m'\u001b[39m)\n",
      "File \u001b[1;32m~\\.conda\\envs\\learning\\Lib\\site-packages\\kaleido\\scopes\\base.py:198\u001b[0m, in \u001b[0;36mBaseScope._ensure_kaleido\u001b[1;34m(self)\u001b[0m\n\u001b[0;32m    193\u001b[0m \u001b[38;5;28;01mif\u001b[39;00m \u001b[38;5;129;01mnot\u001b[39;00m startup_response_string:\n\u001b[0;32m    194\u001b[0m     message \u001b[38;5;241m=\u001b[39m (\n\u001b[0;32m    195\u001b[0m         \u001b[38;5;124m\"\u001b[39m\u001b[38;5;124mFailed to start Kaleido subprocess. Error stream:\u001b[39m\u001b[38;5;130;01m\\n\u001b[39;00m\u001b[38;5;130;01m\\n\u001b[39;00m\u001b[38;5;124m\"\u001b[39m \u001b[38;5;241m+\u001b[39m\n\u001b[0;32m    196\u001b[0m         \u001b[38;5;28mself\u001b[39m\u001b[38;5;241m.\u001b[39m_get_decoded_std_error()\n\u001b[0;32m    197\u001b[0m     )\n\u001b[1;32m--> 198\u001b[0m     \u001b[38;5;28;01mraise\u001b[39;00m \u001b[38;5;167;01mValueError\u001b[39;00m(message)\n\u001b[0;32m    199\u001b[0m \u001b[38;5;28;01melse\u001b[39;00m:\n\u001b[0;32m    200\u001b[0m     startup_response \u001b[38;5;241m=\u001b[39m json\u001b[38;5;241m.\u001b[39mloads(startup_response_string)\n",
      "\u001b[1;31mValueError\u001b[0m: Failed to start Kaleido subprocess. Error stream:\n\n'C:/Users/Wong' is not recognized as an internal or external command,\r\noperable program or batch file.\r\n"
     ]
    }
   ],
   "source": [
    "#Using Success and Failure as the clusters\n",
    "sb.set_style (\"darkgrid\")\n",
    "\n",
    "kmeans = KMeans(n_clusters=2, init=\"k-means++\", n_init= 50, max_iter=500, random_state=42)\n",
    "kmeans.fit(kMeansVar)\n",
    "\n",
    "f = px.scatter_3d(kMeansVar, \n",
    "                  x=\"budget\",\n",
    "                  y=\"votes\",\n",
    "                  z=\"score\",\n",
    "                  symbol=\"Success\",\n",
    "                  color=kmeans.labels_,\n",
    "                  color_continuous_scale=\"oryel\",\n",
    "                  opacity=0.7,\n",
    "                  title=\"K-Means\",\n",
    "                  template=\"plotly_dark\")\n",
    "f.update_layout(margin=dict(l=0, r=0, b=0, t=0), coloraxis_colorbar=dict(yanchor=\"top\", y=1, x=0, ticks=\"outside\", ticksuffix=\" bills\"))\n",
    "img_bytes = f.to_image(format=\"png\")\n",
    "print(img_bytes)\n",
    "f.show(\"png\")\n",
    "\n",
    "f = px.scatter_3d(kMeansVar, \n",
    "                  x=\"budget\",\n",
    "                  y=\"votes\",\n",
    "                  z=\"score\",\n",
    "                  color=\"Success\",\n",
    "                  color_discrete_sequence=[\"#FF0000\", \"#FFFFE0\"],\n",
    "                  opacity=0.7,\n",
    "                  title=\"Ground Truth Values\",\n",
    "                  template=\"plotly_dark\")\n",
    "f.update_layout(margin=dict(l=0, r=0, b=0, t=0))\n",
    "f.show(\"png\")\n",
    "\n",
    "print(\"Adjusted Rand Index: {}\".format(adjusted_rand_score(kMeansVar[\"Success\"], kmeans.labels_)))\n",
    "\n",
    "\"\"\"\n",
    "#3D Subplots\n",
    "f = make_subplots(rows=1, cols=2, specs=[[{'type': 'scene'}, {'type': 'scene'}]])\n",
    "f.add_trace(go.Scatter3d(x=kMeansVar[\"budget\"], \n",
    "                         y=kMeansVar[\"votes\"], \n",
    "                         z=kMeansVar[\"score\"], \n",
    "                         mode=\"markers\",\n",
    "                         marker=dict(size=12, color=kmeans.labels_, opacity=0.7)\n",
    "                         ), \n",
    "            row=1, col=1)\n",
    "f.add_trace(go.Scatter3d(x=kMeansVar[\"budget\"], \n",
    "                         y=kMeansVar[\"votes\"], \n",
    "                         z=kMeansVar[\"score\"], \n",
    "                         mode=\"markers\",\n",
    "                         marker=dict(size=12, color=kMeansVar[\"Success\"], opacity=0.7)\n",
    "                         ), \n",
    "            row=1, col=2)\n",
    "f.show()\n",
    "\n",
    "#3D Plots\n",
    "f = plt.figure(figsize = (24, 18))\n",
    "axes = f.add_subplot(121, projection = \"3d\")\n",
    "axes.scatter(kMeansVar[\"budget\"], kMeansVar[\"votes\"], kMeansVar[\"score\"], c=[\"r\" if i==1 else \"b\" for i in kmeans.labels_])\n",
    "axes.set_title(\"K-Means\")\n",
    "axes.set_xlabel(\"budget\")\n",
    "axes.set_ylabel(\"votes\")\n",
    "axes.set_zlabel(\"score\")\n",
    "\n",
    "axes = f.add_subplot(122, projection = \"3d\")\n",
    "axes.scatter(kMeansVar[\"budget\"], kMeansVar[\"votes\"], kMeansVar[\"score\"], c=[\"r\" if i==1 else \"b\" for i in kMeansVar[\"Success\"]])\n",
    "axes.set_title(\"Ground Truth Values\")\n",
    "axes.set_xlabel(\"budget\")\n",
    "axes.set_ylabel(\"votes\")\n",
    "axes.set_zlabel(\"score\")\n",
    "\n",
    "#2D Plots\n",
    "kMeansVar = kMeansVar.assign(predicted_cluster=kmeans.labels_)\n",
    "f, axes = plt.subplots(1, 3, figsize=(16, 12))\n",
    "#plt.axis([0, 200000000, 0, 500000000])\n",
    "sb.scatterplot(x=\"budget\", y=\"gross\", data=kMeansVar, s=50, hue=\"predicted_cluster\", style=\"Success\", ax=axes[0])\n",
    "sb.scatterplot(x=\"votes\", y=\"gross\", data=kMeansVar, s=50, hue=\"predicted_cluster\", style=\"Success\", ax=axes[1])\n",
    "sb.scatterplot(x=\"score\", y=\"gross\", data=kMeansVar, s=50, hue=\"predicted_cluster\", style=\"Success\", ax=axes[2])\n",
    "\"\"\"\n",
    "print()"
   ]
  },
  {
   "cell_type": "markdown",
   "id": "bc7a7f70-f75f-4d5c-972b-37c2fabf285e",
   "metadata": {},
   "source": [
    "The Adjusted Rand Index (ARI) is a measure of the similarity between two true and predicted clusterings. The ARI output values range between -1 and 1. A score close to 0.0 indicates random agreement, and a score close to 1 indicates perfectly labeled clusters. Since ARI is at -0.00907, it seems that the data is not clustered well. Hence, it's hard to use kmeans as a model to cluster success because the success was already predefinied by 2 variables and kmeans predicts based on 4. Therefore, in the future, it might be better to define more clusters, or use more variables to determine success. "
   ]
  },
  {
   "cell_type": "code",
   "execution_count": null,
   "id": "1a4ebb2e-18ff-4d3a-a5ac-4bc1e8b90eea",
   "metadata": {},
   "outputs": [],
   "source": []
  }
 ],
 "metadata": {
  "kernelspec": {
   "display_name": "Python 3 (ipykernel)",
   "language": "python",
   "name": "python3"
  },
  "language_info": {
   "codemirror_mode": {
    "name": "ipython",
    "version": 3
   },
   "file_extension": ".py",
   "mimetype": "text/x-python",
   "name": "python",
   "nbconvert_exporter": "python",
   "pygments_lexer": "ipython3",
   "version": "3.11.7"
  }
 },
 "nbformat": 4,
 "nbformat_minor": 5
}
